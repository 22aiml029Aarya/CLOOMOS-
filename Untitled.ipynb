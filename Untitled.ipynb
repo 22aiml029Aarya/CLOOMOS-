{
 "cells": [
  {
   "cell_type": "code",
   "execution_count": null,
   "id": "952cb79a",
   "metadata": {},
   "outputs": [
    {
     "name": "stdout",
     "output_type": "stream",
     "text": [
      "Model Accuracy: 0.30\n"
     ]
    }
   ],
   "source": [
    "import pandas as pd\n",
    "from sklearn.model_selection import train_test_split\n",
    "from sklearn.ensemble import RandomForestClassifier\n",
    "from sklearn.metrics import accuracy_score\n",
    "\n",
    "# Load the data\n",
    "data = pd.read_excel(\"Data_set.xlsx\")\n",
    "\n",
    "# Split the data into features (X) and target (y)\n",
    "X = data.drop(columns=['Uni_name', 'Status'])\n",
    "y = data['Uni_name']\n",
    "\n",
    "# Convert categorical variables into dummy/indicator variables\n",
    "X = pd.get_dummies(X)\n",
    "\n",
    "# Split the data into training and testing sets\n",
    "X_train, X_test, y_train, y_test = train_test_split(X, y, test_size=0.2, random_state=42)\n",
    "\n",
    "# Train the RandomForestClassifier\n",
    "clf = RandomForestClassifier()\n",
    "clf.fit(X_train, y_train)\n",
    "\n",
    "# Calculate the accuracy of the model on the test set\n",
    "y_pred = clf.predict(X_test)\n",
    "accuracy = accuracy_score(y_test, y_pred)\n",
    "print(f\"Model Accuracy: {accuracy:.2f}\")\n",
    "\n",
    "def recommend_universities():\n",
    "    # Gather student details\n",
    "    student_details = {}\n",
    "    student_details['Subject'] = input(\"Subject: \")\n",
    "    student_details['Prev_Uni'] = input(\"Previous University: \")\n",
    "    student_details['CGPA'] = float(input(\"CGPA: \"))\n",
    "    student_details['12th %'] = float(input(\"12th Percentage: \"))\n",
    "    student_details['10th %'] = float(input(\"10th Percentage: \"))\n",
    "    student_details['IELTS Listening'] = float(input(\"IELTS Listening: \"))\n",
    "    student_details['IELTS Reading'] = float(input(\"IELTS Reading: \"))\n",
    "    student_details['IELTS Writing'] = float(input(\"IELTS Writing: \"))\n",
    "    student_details['IELTS Speaking'] = float(input(\"IELTS Speaking: \"))\n",
    "    student_details['Overall Bands'] = float(input(\"Overall Bands: \"))\n",
    "    student_details['Uni_fees'] = float(input(\"University Fees: \"))\n",
    "    student_details['Location'] = input(\"Location: \")\n",
    "    student_details['Course'] = input(\"Course: \")\n",
    "\n",
    "    # Convert the student details into a DataFrame and encode it\n",
    "    student_df = pd.DataFrame([student_details])\n",
    "    student_encoded = pd.get_dummies(student_df)\n",
    "    student_encoded = student_encoded.reindex(columns=X_train.columns, fill_value=0)\n",
    "\n",
    "    # Predict the university for the student\n",
    "    prediction = clf.predict(student_encoded)\n",
    "    return prediction\n",
    "\n",
    "# Recommend universities\n",
    "recommended_universities = recommend_universities()\n",
    "print(\"Recommended Universities:\", recommended_universities)\n"
   ]
  },
  {
   "cell_type": "code",
   "execution_count": null,
   "id": "c73941f5",
   "metadata": {},
   "outputs": [],
   "source": []
  }
 ],
 "metadata": {
  "kernelspec": {
   "display_name": "Python 3 (ipykernel)",
   "language": "python",
   "name": "python3"
  },
  "language_info": {
   "codemirror_mode": {
    "name": "ipython",
    "version": 3
   },
   "file_extension": ".py",
   "mimetype": "text/x-python",
   "name": "python",
   "nbconvert_exporter": "python",
   "pygments_lexer": "ipython3",
   "version": "3.11.5"
  }
 },
 "nbformat": 4,
 "nbformat_minor": 5
}
